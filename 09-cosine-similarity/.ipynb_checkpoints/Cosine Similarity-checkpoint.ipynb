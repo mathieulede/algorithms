{
 "cells": [
  {
   "cell_type": "code",
   "execution_count": 1,
   "metadata": {
    "collapsed": true
   },
   "outputs": [],
   "source": [
    "%matplotlib inline\n",
    "import pandas as pd"
   ]
  },
  {
   "cell_type": "markdown",
   "metadata": {},
   "source": [
    "# Cosine similarity\n",
    "\n",
    "I'll draw a picture of cosine similarity in class, but it basically means **hey, do these things look the same?**\n",
    "\n",
    "Here are some people. They own animals. This example is terrible."
   ]
  },
  {
   "cell_type": "code",
   "execution_count": 2,
   "metadata": {},
   "outputs": [
    {
     "data": {
      "text/html": [
       "<div>\n",
       "<style>\n",
       "    .dataframe thead tr:only-child th {\n",
       "        text-align: right;\n",
       "    }\n",
       "\n",
       "    .dataframe thead th {\n",
       "        text-align: left;\n",
       "    }\n",
       "\n",
       "    .dataframe tbody tr th {\n",
       "        vertical-align: top;\n",
       "    }\n",
       "</style>\n",
       "<table border=\"1\" class=\"dataframe\">\n",
       "  <thead>\n",
       "    <tr style=\"text-align: right;\">\n",
       "      <th></th>\n",
       "      <th>cats</th>\n",
       "      <th>dogs</th>\n",
       "      <th>mice</th>\n",
       "      <th>name</th>\n",
       "    </tr>\n",
       "  </thead>\n",
       "  <tbody>\n",
       "    <tr>\n",
       "      <th>0</th>\n",
       "      <td>7</td>\n",
       "      <td>22</td>\n",
       "      <td>0</td>\n",
       "      <td>Matty</td>\n",
       "    </tr>\n",
       "    <tr>\n",
       "      <th>1</th>\n",
       "      <td>12</td>\n",
       "      <td>9</td>\n",
       "      <td>5</td>\n",
       "      <td>Margo</td>\n",
       "    </tr>\n",
       "    <tr>\n",
       "      <th>2</th>\n",
       "      <td>9</td>\n",
       "      <td>5</td>\n",
       "      <td>2</td>\n",
       "      <td>Marby</td>\n",
       "    </tr>\n",
       "    <tr>\n",
       "      <th>3</th>\n",
       "      <td>1</td>\n",
       "      <td>2</td>\n",
       "      <td>1</td>\n",
       "      <td>Maaaa</td>\n",
       "    </tr>\n",
       "    <tr>\n",
       "      <th>4</th>\n",
       "      <td>5</td>\n",
       "      <td>9</td>\n",
       "      <td>5</td>\n",
       "      <td>Mappi</td>\n",
       "    </tr>\n",
       "    <tr>\n",
       "      <th>5</th>\n",
       "      <td>10</td>\n",
       "      <td>1</td>\n",
       "      <td>0</td>\n",
       "      <td>Maesa</td>\n",
       "    </tr>\n",
       "    <tr>\n",
       "      <th>6</th>\n",
       "      <td>2</td>\n",
       "      <td>3</td>\n",
       "      <td>0</td>\n",
       "      <td>Mazda</td>\n",
       "    </tr>\n",
       "  </tbody>\n",
       "</table>\n",
       "</div>"
      ],
      "text/plain": [
       "   cats  dogs  mice   name\n",
       "0     7    22     0  Matty\n",
       "1    12     9     5  Margo\n",
       "2     9     5     2  Marby\n",
       "3     1     2     1  Maaaa\n",
       "4     5     9     5  Mappi\n",
       "5    10     1     0  Maesa\n",
       "6     2     3     0  Mazda"
      ]
     },
     "execution_count": 2,
     "metadata": {},
     "output_type": "execute_result"
    }
   ],
   "source": [
    "pet_owners = [\n",
    "    { 'name': 'Matty', 'cats': 7, 'dogs': 22, 'mice': 0 },\n",
    "    { 'name': 'Margo', 'cats': 12, 'dogs': 9, 'mice': 5 },\n",
    "    { 'name': 'Marby', 'cats': 9, 'dogs': 5, 'mice': 2 },\n",
    "    { 'name': 'Maaaa', 'cats': 1, 'dogs': 2, 'mice': 1 },\n",
    "    { 'name': 'Mappi', 'cats': 5, 'dogs': 9, 'mice': 5 },\n",
    "    { 'name': 'Maesa', 'cats': 10, 'dogs': 1, 'mice': 0 },\n",
    "    { 'name': 'Mazda', 'cats': 2, 'dogs': 3, 'mice': 0 }\n",
    "]\n",
    "\n",
    "df = pd.DataFrame(pet_owners)\n",
    "df"
   ]
  },
  {
   "cell_type": "markdown",
   "metadata": {},
   "source": [
    "Let's compare them based on the number of animals they have. So those animal counts will be our **features.**"
   ]
  },
  {
   "cell_type": "code",
   "execution_count": null,
   "metadata": {
    "collapsed": true
   },
   "outputs": [],
   "source": [
    "features_df = df[['cats','dogs','mice']]\n",
    "features_df"
   ]
  },
  {
   "cell_type": "markdown",
   "metadata": {},
   "source": [
    "And we'll save everyone's name into a list called **names**."
   ]
  },
  {
   "cell_type": "code",
   "execution_count": null,
   "metadata": {
    "collapsed": true
   },
   "outputs": [],
   "source": [
    "names = df.name\n",
    "names"
   ]
  },
  {
   "cell_type": "markdown",
   "metadata": {},
   "source": [
    "Scikit-learn has a lot of [pairwise metrics](http://scikit-learn.org/stable/modules/metrics.html#metrics) you can use to see how related things are. Y'know, like how we spend time clustering things, this is kind of the step in-between that you don't get to see.\n",
    "\n",
    "You can use other metrics, but cosine similarity is a pretty good/safe/reasonably understandable one."
   ]
  },
  {
   "cell_type": "code",
   "execution_count": null,
   "metadata": {
    "collapsed": true
   },
   "outputs": [],
   "source": [
    "from sklearn.metrics.pairwise import cosine_similarity\n",
    "\n",
    "# Use cosine_similarity to create a matrix of... similarities\n",
    "# call it similarity"
   ]
  },
  {
   "cell_type": "markdown",
   "metadata": {},
   "source": [
    "Looks fun, right? In that big matrix,**every column is a person and every row is a person**, and the intersection is how similar they are. If we want to see it a little more nicely..."
   ]
  },
  {
   "cell_type": "code",
   "execution_count": null,
   "metadata": {
    "collapsed": true
   },
   "outputs": [],
   "source": [
    "# Turn it into a dataframe with an index and columns that make sense\n",
    "# call it similarity_df"
   ]
  },
  {
   "cell_type": "markdown",
   "metadata": {},
   "source": [
    "Everyone is 100% similar to themselves - `1.0` - but for everyone else it gets closer and closer to `0` if they're less related.\n",
    "\n",
    "So, now that we've made a nice dataframe with nice rows and columns, who is Matty most similar to?"
   ]
  },
  {
   "cell_type": "code",
   "execution_count": null,
   "metadata": {
    "collapsed": true
   },
   "outputs": [],
   "source": []
  },
  {
   "cell_type": "markdown",
   "metadata": {},
   "source": [
    "Let's visualize this while we're at it! We're going to use seaborn because it's so easy."
   ]
  },
  {
   "cell_type": "code",
   "execution_count": null,
   "metadata": {
    "collapsed": true
   },
   "outputs": [],
   "source": [
    "%matplotlib inline\n",
    "import seaborn as sns\n",
    "\n",
    "# cmap makes the colors better. The default one is pretty ugly.\n",
    "ax = sns.heatmap(similarity_df, cmap=\"YlGnBu\")"
   ]
  },
  {
   "cell_type": "markdown",
   "metadata": {},
   "source": [
    "# Well, sure, okay. Let's try it with real data."
   ]
  },
  {
   "cell_type": "code",
   "execution_count": null,
   "metadata": {
    "collapsed": true
   },
   "outputs": [],
   "source": [
    "import glob\n",
    "\n",
    "filenames = glob.glob(\"books/*/*.txt\")\n",
    "contents = [open(filename).read() for filename in filenames]\n",
    "df = pd.DataFrame({\n",
    "    'filename': filenames,\n",
    "    'content': contents\n",
    "})\n",
    "df.head()"
   ]
  },
  {
   "cell_type": "code",
   "execution_count": null,
   "metadata": {
    "collapsed": true
   },
   "outputs": [],
   "source": [
    "df['author'] = df.filename.str.extract(\"books/(.*)/\", expand=False)\n",
    "df['title'] = df.filename.str.extract(\"books/.*/(.*).txt\", expand=False)\n",
    "df.head()"
   ]
  },
  {
   "cell_type": "markdown",
   "metadata": {},
   "source": [
    "### What words do those books use?"
   ]
  },
  {
   "cell_type": "code",
   "execution_count": null,
   "metadata": {
    "collapsed": true
   },
   "outputs": [],
   "source": [
    "from sklearn.feature_extraction.text import TfidfVectorizer\n",
    "\n",
    "vec = TfidfVectorizer(stop_words='english')\n",
    "matrix = vec.fit_transform(df.content)\n",
    "features_df = pd.DataFrame(matrix.toarray(), columns=vec.get_feature_names(), index=df.title)\n",
    "features_df"
   ]
  },
  {
   "cell_type": "markdown",
   "metadata": {},
   "source": [
    "### How similar are they? We could cluster, but instead..."
   ]
  },
  {
   "cell_type": "code",
   "execution_count": null,
   "metadata": {
    "collapsed": true
   },
   "outputs": [],
   "source": [
    "# Use cosine similarity to make a similarity matrix, \n",
    "# then use that to make a dataframe with sensible indexes and columns"
   ]
  },
  {
   "cell_type": "code",
   "execution_count": null,
   "metadata": {
    "collapsed": true
   },
   "outputs": [],
   "source": [
    "sns.heatmap(similarity_df, cmap=\"YlGnBu\")"
   ]
  },
  {
   "cell_type": "markdown",
   "metadata": {
    "collapsed": true
   },
   "source": [
    "## Let's try it without stopwords to compare"
   ]
  },
  {
   "cell_type": "code",
   "execution_count": null,
   "metadata": {
    "collapsed": true
   },
   "outputs": [],
   "source": [
    "from sklearn.feature_extraction.text import TfidfVectorizer\n",
    "\n",
    "vec = TfidfVectorizer()\n",
    "matrix = vec.fit_transform(df.content)\n",
    "similarity = cosine_similarity(matrix)\n",
    "similarity_df = pd.DataFrame(similarity, index=df.title, columns=df.title)\n",
    "sns.heatmap(similarity_df, cmap=\"YlGnBu\")"
   ]
  },
  {
   "cell_type": "markdown",
   "metadata": {},
   "source": [
    "Hmm, interesting: **why does it change so much?**"
   ]
  },
  {
   "cell_type": "markdown",
   "metadata": {},
   "source": [
    "## Is Pride and Prejudice more like State of the Union addresses or JRR Tolkein?"
   ]
  },
  {
   "cell_type": "code",
   "execution_count": null,
   "metadata": {
    "collapsed": true
   },
   "outputs": [],
   "source": []
  },
  {
   "cell_type": "code",
   "execution_count": null,
   "metadata": {
    "collapsed": true
   },
   "outputs": [],
   "source": []
  }
 ],
 "metadata": {
  "kernelspec": {
   "display_name": "Python 3",
   "language": "python",
   "name": "python3"
  },
  "language_info": {
   "codemirror_mode": {
    "name": "ipython",
    "version": 3
   },
   "file_extension": ".py",
   "mimetype": "text/x-python",
   "name": "python",
   "nbconvert_exporter": "python",
   "pygments_lexer": "ipython3",
   "version": "3.6.1"
  }
 },
 "nbformat": 4,
 "nbformat_minor": 2
}
