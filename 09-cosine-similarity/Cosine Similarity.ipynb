{
 "cells": [
  {
   "cell_type": "code",
   "execution_count": 1,
   "metadata": {
    "collapsed": true
   },
   "outputs": [],
   "source": [
    "%matplotlib inline\n",
    "import pandas as pd"
   ]
  },
  {
   "cell_type": "markdown",
   "metadata": {},
   "source": [
    "# Cosine similarity\n",
    "\n",
    "I'll draw a picture of cosine similarity in class, but it basically means **hey, do these things look the same?**\n",
    "\n",
    "Here are some people. They own animals. This example is terrible."
   ]
  },
  {
   "cell_type": "code",
   "execution_count": 2,
   "metadata": {},
   "outputs": [
    {
     "data": {
      "text/html": [
       "<div>\n",
       "<style>\n",
       "    .dataframe thead tr:only-child th {\n",
       "        text-align: right;\n",
       "    }\n",
       "\n",
       "    .dataframe thead th {\n",
       "        text-align: left;\n",
       "    }\n",
       "\n",
       "    .dataframe tbody tr th {\n",
       "        vertical-align: top;\n",
       "    }\n",
       "</style>\n",
       "<table border=\"1\" class=\"dataframe\">\n",
       "  <thead>\n",
       "    <tr style=\"text-align: right;\">\n",
       "      <th></th>\n",
       "      <th>cats</th>\n",
       "      <th>dogs</th>\n",
       "      <th>mice</th>\n",
       "      <th>name</th>\n",
       "    </tr>\n",
       "  </thead>\n",
       "  <tbody>\n",
       "    <tr>\n",
       "      <th>0</th>\n",
       "      <td>7</td>\n",
       "      <td>22</td>\n",
       "      <td>0</td>\n",
       "      <td>Matty</td>\n",
       "    </tr>\n",
       "    <tr>\n",
       "      <th>1</th>\n",
       "      <td>12</td>\n",
       "      <td>9</td>\n",
       "      <td>5</td>\n",
       "      <td>Margo</td>\n",
       "    </tr>\n",
       "    <tr>\n",
       "      <th>2</th>\n",
       "      <td>9</td>\n",
       "      <td>5</td>\n",
       "      <td>2</td>\n",
       "      <td>Marby</td>\n",
       "    </tr>\n",
       "    <tr>\n",
       "      <th>3</th>\n",
       "      <td>1</td>\n",
       "      <td>2</td>\n",
       "      <td>1</td>\n",
       "      <td>Maaaa</td>\n",
       "    </tr>\n",
       "    <tr>\n",
       "      <th>4</th>\n",
       "      <td>5</td>\n",
       "      <td>9</td>\n",
       "      <td>5</td>\n",
       "      <td>Mappi</td>\n",
       "    </tr>\n",
       "    <tr>\n",
       "      <th>5</th>\n",
       "      <td>10</td>\n",
       "      <td>1</td>\n",
       "      <td>0</td>\n",
       "      <td>Maesa</td>\n",
       "    </tr>\n",
       "    <tr>\n",
       "      <th>6</th>\n",
       "      <td>2</td>\n",
       "      <td>3</td>\n",
       "      <td>0</td>\n",
       "      <td>Mazda</td>\n",
       "    </tr>\n",
       "  </tbody>\n",
       "</table>\n",
       "</div>"
      ],
      "text/plain": [
       "   cats  dogs  mice   name\n",
       "0     7    22     0  Matty\n",
       "1    12     9     5  Margo\n",
       "2     9     5     2  Marby\n",
       "3     1     2     1  Maaaa\n",
       "4     5     9     5  Mappi\n",
       "5    10     1     0  Maesa\n",
       "6     2     3     0  Mazda"
      ]
     },
     "execution_count": 2,
     "metadata": {},
     "output_type": "execute_result"
    }
   ],
   "source": [
    "pet_owners = [\n",
    "    { 'name': 'Matty', 'cats': 7, 'dogs': 22, 'mice': 0 },\n",
    "    { 'name': 'Margo', 'cats': 12, 'dogs': 9, 'mice': 5 },\n",
    "    { 'name': 'Marby', 'cats': 9, 'dogs': 5, 'mice': 2 },\n",
    "    { 'name': 'Maaaa', 'cats': 1, 'dogs': 2, 'mice': 1 },\n",
    "    { 'name': 'Mappi', 'cats': 5, 'dogs': 9, 'mice': 5 },\n",
    "    { 'name': 'Maesa', 'cats': 10, 'dogs': 1, 'mice': 0 },\n",
    "    { 'name': 'Mazda', 'cats': 2, 'dogs': 3, 'mice': 0 }\n",
    "]\n",
    "\n",
    "df = pd.DataFrame(pet_owners)\n",
    "df"
   ]
  },
  {
   "cell_type": "markdown",
   "metadata": {},
   "source": [
    "Let's compare them based on the number of animals they have. So those animal counts will be our **features.**"
   ]
  },
  {
   "cell_type": "code",
   "execution_count": 14,
   "metadata": {},
   "outputs": [
    {
     "data": {
      "text/html": [
       "<div>\n",
       "<style>\n",
       "    .dataframe thead tr:only-child th {\n",
       "        text-align: right;\n",
       "    }\n",
       "\n",
       "    .dataframe thead th {\n",
       "        text-align: left;\n",
       "    }\n",
       "\n",
       "    .dataframe tbody tr th {\n",
       "        vertical-align: top;\n",
       "    }\n",
       "</style>\n",
       "<table border=\"1\" class=\"dataframe\">\n",
       "  <thead>\n",
       "    <tr style=\"text-align: right;\">\n",
       "      <th></th>\n",
       "      <th>cats</th>\n",
       "      <th>dogs</th>\n",
       "      <th>mice</th>\n",
       "    </tr>\n",
       "  </thead>\n",
       "  <tbody>\n",
       "    <tr>\n",
       "      <th>0</th>\n",
       "      <td>7</td>\n",
       "      <td>22</td>\n",
       "      <td>0</td>\n",
       "    </tr>\n",
       "    <tr>\n",
       "      <th>1</th>\n",
       "      <td>12</td>\n",
       "      <td>9</td>\n",
       "      <td>5</td>\n",
       "    </tr>\n",
       "    <tr>\n",
       "      <th>2</th>\n",
       "      <td>9</td>\n",
       "      <td>5</td>\n",
       "      <td>2</td>\n",
       "    </tr>\n",
       "    <tr>\n",
       "      <th>3</th>\n",
       "      <td>1</td>\n",
       "      <td>2</td>\n",
       "      <td>1</td>\n",
       "    </tr>\n",
       "    <tr>\n",
       "      <th>4</th>\n",
       "      <td>5</td>\n",
       "      <td>9</td>\n",
       "      <td>5</td>\n",
       "    </tr>\n",
       "    <tr>\n",
       "      <th>5</th>\n",
       "      <td>10</td>\n",
       "      <td>1</td>\n",
       "      <td>0</td>\n",
       "    </tr>\n",
       "    <tr>\n",
       "      <th>6</th>\n",
       "      <td>2</td>\n",
       "      <td>3</td>\n",
       "      <td>0</td>\n",
       "    </tr>\n",
       "  </tbody>\n",
       "</table>\n",
       "</div>"
      ],
      "text/plain": [
       "   cats  dogs  mice\n",
       "0     7    22     0\n",
       "1    12     9     5\n",
       "2     9     5     2\n",
       "3     1     2     1\n",
       "4     5     9     5\n",
       "5    10     1     0\n",
       "6     2     3     0"
      ]
     },
     "execution_count": 14,
     "metadata": {},
     "output_type": "execute_result"
    }
   ],
   "source": [
    "features_df = df[['cats','dogs','mice']]\n",
    "features_df"
   ]
  },
  {
   "cell_type": "markdown",
   "metadata": {},
   "source": [
    "And we'll save everyone's name into a list called **names**."
   ]
  },
  {
   "cell_type": "code",
   "execution_count": 15,
   "metadata": {},
   "outputs": [
    {
     "data": {
      "text/plain": [
       "0    Matty\n",
       "1    Margo\n",
       "2    Marby\n",
       "3    Maaaa\n",
       "4    Mappi\n",
       "5    Maesa\n",
       "6    Mazda\n",
       "Name: name, dtype: object"
      ]
     },
     "execution_count": 15,
     "metadata": {},
     "output_type": "execute_result"
    }
   ],
   "source": [
    "names = df.name\n",
    "names"
   ]
  },
  {
   "cell_type": "markdown",
   "metadata": {},
   "source": [
    "Scikit-learn has a lot of [pairwise metrics](http://scikit-learn.org/stable/modules/metrics.html#metrics) you can use to see how related things are. Y'know, like how we spend time clustering things, this is kind of the step in-between that you don't get to see.\n",
    "\n",
    "You can use other metrics, but cosine similarity is a pretty good/safe/reasonably understandable one."
   ]
  },
  {
   "cell_type": "code",
   "execution_count": 16,
   "metadata": {
    "collapsed": true
   },
   "outputs": [],
   "source": [
    "from sklearn.metrics.pairwise import cosine_similarity\n",
    "\n",
    "# Use cosine_similarity to create a matrix of... similarities\n",
    "# call it similarity"
   ]
  },
  {
   "cell_type": "markdown",
   "metadata": {},
   "source": [
    "Looks fun, right? In that big matrix,**every column is a person and every row is a person**, and the intersection is how similar they are. If we want to see it a little more nicely..."
   ]
  },
  {
   "cell_type": "code",
   "execution_count": 17,
   "metadata": {},
   "outputs": [
    {
     "data": {
      "text/plain": [
       "<matplotlib.axes._subplots.AxesSubplot at 0x111dee7b8>"
      ]
     },
     "execution_count": 17,
     "metadata": {},
     "output_type": "execute_result"
    },
    {
     "data": {
      "image/png": "[encoded data removed]",
      "text/plain": [
       "<matplotlib.figure.Figure at 0x111e38f28>"
      ]
     },
     "metadata": {},
     "output_type": "display_data"
    }
   ],
   "source": [
    "df.plot(x='cats', y='dogs', kind='scatter')"
   ]
  },
  {
   "cell_type": "code",
   "execution_count": 20,
   "metadata": {
    "collapsed": true
   },
   "outputs": [],
   "source": [
    "# Turn it into a dataframe with an index and columns that make sense\n",
    "# call it similarity_df\n",
    "\n",
    "similarity = cosine_similarity(features_df)\n",
    "similarity_df=pd.DataFrame(similarity, columns=names, index=names)"
   ]
  },
  {
   "cell_type": "markdown",
   "metadata": {},
   "source": [
    "Everyone is 100% similar to themselves - `1.0` - but for everyone else it gets closer and closer to `0` if they're less related.\n",
    "\n",
    "So, now that we've made a nice dataframe with nice rows and columns, who is Matty most similar to?"
   ]
  },
  {
   "cell_type": "code",
   "execution_count": 24,
   "metadata": {},
   "outputs": [
    {
     "data": {
      "text/plain": [
       "name\n",
       "Matty    1.000000\n",
       "Mazda    0.961069\n",
       "Maaaa    0.901843\n",
       "Mappi    0.881773\n",
       "Margo    0.772530\n",
       "Marby    0.714474\n",
       "Maesa    0.396519\n",
       "Name: Matty, dtype: float64"
      ]
     },
     "execution_count": 24,
     "metadata": {},
     "output_type": "execute_result"
    }
   ],
   "source": [
    "similarity_df['Matty'].sort_values(ascending=False)"
   ]
  },
  {
   "cell_type": "markdown",
   "metadata": {},
   "source": [
    "Let's visualize this while we're at it! We're going to use seaborn because it's so easy."
   ]
  },
  {
   "cell_type": "code",
   "execution_count": 21,
   "metadata": {},
   "outputs": [
    {
     "data": {
      "image/png": "[encoded data removed]",
      "text/plain": [
       "<matplotlib.figure.Figure at 0x111efa198>"
      ]
     },
     "metadata": {},
     "output_type": "display_data"
    }
   ],
   "source": [
    "%matplotlib inline\n",
    "import seaborn as sns\n",
    "\n",
    "# cmap makes the colors better. The default one is pretty ugly.\n",
    "ax = sns.heatmap(similarity_df, cmap=\"YlGnBu\")"
   ]
  },
  {
   "cell_type": "markdown",
   "metadata": {},
   "source": [
    "# Well, sure, okay. Let's try it with real data."
   ]
  },
  {
   "cell_type": "code",
   "execution_count": 25,
   "metadata": {},
   "outputs": [
    {
     "data": {
      "text/html": [
       "<div>\n",
       "<style>\n",
       "    .dataframe thead tr:only-child th {\n",
       "        text-align: right;\n",
       "    }\n",
       "\n",
       "    .dataframe thead th {\n",
       "        text-align: left;\n",
       "    }\n",
       "\n",
       "    .dataframe tbody tr th {\n",
       "        vertical-align: top;\n",
       "    }\n",
       "</style>\n",
       "<table border=\"1\" class=\"dataframe\">\n",
       "  <thead>\n",
       "    <tr style=\"text-align: right;\">\n",
       "      <th></th>\n",
       "      <th>content</th>\n",
       "      <th>filename</th>\n",
       "    </tr>\n",
       "  </thead>\n",
       "  <tbody>\n",
       "    <tr>\n",
       "      <th>0</th>\n",
       "      <td>The Project Gutenberg EBook of Emma, by Jane A...</td>\n",
       "      <td>books/austen/emma.txt</td>\n",
       "    </tr>\n",
       "    <tr>\n",
       "      <th>1</th>\n",
       "      <td>The Project Gutenberg EBook of Mansfield Park,...</td>\n",
       "      <td>books/austen/mansfield_park.txt</td>\n",
       "    </tr>\n",
       "    <tr>\n",
       "      <th>2</th>\n",
       "      <td>The Project Gutenberg EBook of Northanger Abbe...</td>\n",
       "      <td>books/austen/northanger_abbey.txt</td>\n",
       "    </tr>\n",
       "    <tr>\n",
       "      <th>3</th>\n",
       "      <td>The Project Gutenberg EBook of Pride and Preju...</td>\n",
       "      <td>books/austen/pride-and-prejudice.txt</td>\n",
       "    </tr>\n",
       "    <tr>\n",
       "      <th>4</th>\n",
       "      <td>The Project Gutenberg EBook of Sense and Sensi...</td>\n",
       "      <td>books/austen/sense-and-sensibility.txt</td>\n",
       "    </tr>\n",
       "  </tbody>\n",
       "</table>\n",
       "</div>"
      ],
      "text/plain": [
       "                                             content  \\\n",
       "0  The Project Gutenberg EBook of Emma, by Jane A...   \n",
       "1  The Project Gutenberg EBook of Mansfield Park,...   \n",
       "2  The Project Gutenberg EBook of Northanger Abbe...   \n",
       "3  The Project Gutenberg EBook of Pride and Preju...   \n",
       "4  The Project Gutenberg EBook of Sense and Sensi...   \n",
       "\n",
       "                                 filename  \n",
       "0                   books/austen/emma.txt  \n",
       "1         books/austen/mansfield_park.txt  \n",
       "2       books/austen/northanger_abbey.txt  \n",
       "3    books/austen/pride-and-prejudice.txt  \n",
       "4  books/austen/sense-and-sensibility.txt  "
      ]
     },
     "execution_count": 25,
     "metadata": {},
     "output_type": "execute_result"
    }
   ],
   "source": [
    "import glob\n",
    "\n",
    "filenames = glob.glob(\"books/*/*.txt\")\n",
    "contents = [open(filename).read() for filename in filenames]\n",
    "df = pd.DataFrame({\n",
    "    'filename': filenames,\n",
    "    'content': contents\n",
    "})\n",
    "df.head()"
   ]
  },
  {
   "cell_type": "code",
   "execution_count": 26,
   "metadata": {},
   "outputs": [
    {
     "data": {
      "text/html": [
       "<div>\n",
       "<style>\n",
       "    .dataframe thead tr:only-child th {\n",
       "        text-align: right;\n",
       "    }\n",
       "\n",
       "    .dataframe thead th {\n",
       "        text-align: left;\n",
       "    }\n",
       "\n",
       "    .dataframe tbody tr th {\n",
       "        vertical-align: top;\n",
       "    }\n",
       "</style>\n",
       "<table border=\"1\" class=\"dataframe\">\n",
       "  <thead>\n",
       "    <tr style=\"text-align: right;\">\n",
       "      <th></th>\n",
       "      <th>content</th>\n",
       "      <th>filename</th>\n",
       "      <th>author</th>\n",
       "      <th>title</th>\n",
       "    </tr>\n",
       "  </thead>\n",
       "  <tbody>\n",
       "    <tr>\n",
       "      <th>0</th>\n",
       "      <td>The Project Gutenberg EBook of Emma, by Jane A...</td>\n",
       "      <td>books/austen/emma.txt</td>\n",
       "      <td>austen</td>\n",
       "      <td>emma</td>\n",
       "    </tr>\n",
       "    <tr>\n",
       "      <th>1</th>\n",
       "      <td>The Project Gutenberg EBook of Mansfield Park,...</td>\n",
       "      <td>books/austen/mansfield_park.txt</td>\n",
       "      <td>austen</td>\n",
       "      <td>mansfield_park</td>\n",
       "    </tr>\n",
       "    <tr>\n",
       "      <th>2</th>\n",
       "      <td>The Project Gutenberg EBook of Northanger Abbe...</td>\n",
       "      <td>books/austen/northanger_abbey.txt</td>\n",
       "      <td>austen</td>\n",
       "      <td>northanger_abbey</td>\n",
       "    </tr>\n",
       "    <tr>\n",
       "      <th>3</th>\n",
       "      <td>The Project Gutenberg EBook of Pride and Preju...</td>\n",
       "      <td>books/austen/pride-and-prejudice.txt</td>\n",
       "      <td>austen</td>\n",
       "      <td>pride-and-prejudice</td>\n",
       "    </tr>\n",
       "    <tr>\n",
       "      <th>4</th>\n",
       "      <td>The Project Gutenberg EBook of Sense and Sensi...</td>\n",
       "      <td>books/austen/sense-and-sensibility.txt</td>\n",
       "      <td>austen</td>\n",
       "      <td>sense-and-sensibility</td>\n",
       "    </tr>\n",
       "  </tbody>\n",
       "</table>\n",
       "</div>"
      ],
      "text/plain": [
       "                                             content  \\\n",
       "0  The Project Gutenberg EBook of Emma, by Jane A...   \n",
       "1  The Project Gutenberg EBook of Mansfield Park,...   \n",
       "2  The Project Gutenberg EBook of Northanger Abbe...   \n",
       "3  The Project Gutenberg EBook of Pride and Preju...   \n",
       "4  The Project Gutenberg EBook of Sense and Sensi...   \n",
       "\n",
       "                                 filename  author                  title  \n",
       "0                   books/austen/emma.txt  austen                   emma  \n",
       "1         books/austen/mansfield_park.txt  austen         mansfield_park  \n",
       "2       books/austen/northanger_abbey.txt  austen       northanger_abbey  \n",
       "3    books/austen/pride-and-prejudice.txt  austen    pride-and-prejudice  \n",
       "4  books/austen/sense-and-sensibility.txt  austen  sense-and-sensibility  "
      ]
     },
     "execution_count": 26,
     "metadata": {},
     "output_type": "execute_result"
    }
   ],
   "source": [
    "df['author'] = df.filename.str.extract(\"books/(.*)/\", expand=False)\n",
    "df['title'] = df.filename.str.extract(\"books/.*/(.*).txt\", expand=False)\n",
    "df.head()"
   ]
  },
  {
   "cell_type": "markdown",
   "metadata": {},
   "source": [
    "### What words do those books use?"
   ]
  },
  {
   "cell_type": "code",
   "execution_count": 29,
   "metadata": {},
   "outputs": [
    {
     "data": {
      "text/html": [
       "<div>\n",
       "<style>\n",
       "    .dataframe thead tr:only-child th {\n",
       "        text-align: right;\n",
       "    }\n",
       "\n",
       "    .dataframe thead th {\n",
       "        text-align: left;\n",
       "    }\n",
       "\n",
       "    .dataframe tbody tr th {\n",
       "        vertical-align: top;\n",
       "    }\n",
       "</style>\n",
       "<table border=\"1\" class=\"dataframe\">\n",
       "  <thead>\n",
       "    <tr style=\"text-align: right;\">\n",
       "      <th></th>\n",
       "      <th>000</th>\n",
       "      <th>007</th>\n",
       "      <th>05</th>\n",
       "      <th>10</th>\n",
       "      <th>100</th>\n",
       "      <th>1000</th>\n",
       "      <th>1001</th>\n",
       "      <th>1002</th>\n",
       "      <th>10022</th>\n",
       "      <th>1003</th>\n",
       "      <th>...</th>\n",
       "      <th>óinand</th>\n",
       "      <th>óinto</th>\n",
       "      <th>ómaryo</th>\n",
       "      <th>ónen</th>\n",
       "      <th>óre</th>\n",
       "      <th>únótime</th>\n",
       "      <th>únótimë</th>\n",
       "      <th>úre</th>\n",
       "      <th>úrimë</th>\n",
       "      <th>úrui</th>\n",
       "    </tr>\n",
       "    <tr>\n",
       "      <th>title</th>\n",
       "      <th></th>\n",
       "      <th></th>\n",
       "      <th></th>\n",
       "      <th></th>\n",
       "      <th></th>\n",
       "      <th></th>\n",
       "      <th></th>\n",
       "      <th></th>\n",
       "      <th></th>\n",
       "      <th></th>\n",
       "      <th></th>\n",
       "      <th></th>\n",
       "      <th></th>\n",
       "      <th></th>\n",
       "      <th></th>\n",
       "      <th></th>\n",
       "      <th></th>\n",
       "      <th></th>\n",
       "      <th></th>\n",
       "      <th></th>\n",
       "      <th></th>\n",
       "    </tr>\n",
       "  </thead>\n",
       "  <tbody>\n",
       "    <tr>\n",
       "      <th>emma</th>\n",
       "      <td>0.001030</td>\n",
       "      <td>0.000000</td>\n",
       "      <td>0.00000</td>\n",
       "      <td>0.000511</td>\n",
       "      <td>0.000000</td>\n",
       "      <td>0.000000</td>\n",
       "      <td>0.000000</td>\n",
       "      <td>0.000000</td>\n",
       "      <td>0.000000</td>\n",
       "      <td>0.000000</td>\n",
       "      <td>...</td>\n",
       "      <td>0.000000</td>\n",
       "      <td>0.000000</td>\n",
       "      <td>0.000000</td>\n",
       "      <td>0.00000</td>\n",
       "      <td>0.000000</td>\n",
       "      <td>0.000000</td>\n",
       "      <td>0.000000</td>\n",
       "      <td>0.000000</td>\n",
       "      <td>0.000000</td>\n",
       "      <td>0.000000</td>\n",
       "    </tr>\n",
       "    <tr>\n",
       "      <th>mansfield_park</th>\n",
       "      <td>0.000779</td>\n",
       "      <td>0.000000</td>\n",
       "      <td>0.00000</td>\n",
       "      <td>0.000869</td>\n",
       "      <td>0.000000</td>\n",
       "      <td>0.000000</td>\n",
       "      <td>0.000000</td>\n",
       "      <td>0.000000</td>\n",
       "      <td>0.000000</td>\n",
       "      <td>0.000000</td>\n",
       "      <td>...</td>\n",
       "      <td>0.000000</td>\n",
       "      <td>0.000000</td>\n",
       "      <td>0.000000</td>\n",
       "      <td>0.00000</td>\n",
       "      <td>0.000000</td>\n",
       "      <td>0.000000</td>\n",
       "      <td>0.000000</td>\n",
       "      <td>0.000000</td>\n",
       "      <td>0.000000</td>\n",
       "      <td>0.000000</td>\n",
       "    </tr>\n",
       "    <tr>\n",
       "      <th>northanger_abbey</th>\n",
       "      <td>0.000868</td>\n",
       "      <td>0.000000</td>\n",
       "      <td>0.00000</td>\n",
       "      <td>0.000645</td>\n",
       "      <td>0.000000</td>\n",
       "      <td>0.000000</td>\n",
       "      <td>0.000000</td>\n",
       "      <td>0.000000</td>\n",
       "      <td>0.000000</td>\n",
       "      <td>0.000000</td>\n",
       "      <td>...</td>\n",
       "      <td>0.000000</td>\n",
       "      <td>0.000000</td>\n",
       "      <td>0.000000</td>\n",
       "      <td>0.00000</td>\n",
       "      <td>0.000000</td>\n",
       "      <td>0.000000</td>\n",
       "      <td>0.000000</td>\n",
       "      <td>0.000000</td>\n",
       "      <td>0.000000</td>\n",
       "      <td>0.000000</td>\n",
       "    </tr>\n",
       "    <tr>\n",
       "      <th>pride-and-prejudice</th>\n",
       "      <td>0.000499</td>\n",
       "      <td>0.000000</td>\n",
       "      <td>0.00000</td>\n",
       "      <td>0.000371</td>\n",
       "      <td>0.000000</td>\n",
       "      <td>0.000000</td>\n",
       "      <td>0.000000</td>\n",
       "      <td>0.000000</td>\n",
       "      <td>0.000000</td>\n",
       "      <td>0.000000</td>\n",
       "      <td>...</td>\n",
       "      <td>0.000000</td>\n",
       "      <td>0.000000</td>\n",
       "      <td>0.000000</td>\n",
       "      <td>0.00000</td>\n",
       "      <td>0.000000</td>\n",
       "      <td>0.000000</td>\n",
       "      <td>0.000000</td>\n",
       "      <td>0.000000</td>\n",
       "      <td>0.000000</td>\n",
       "      <td>0.000000</td>\n",
       "    </tr>\n",
       "    <tr>\n",
       "      <th>sense-and-sensibility</th>\n",
       "      <td>0.000468</td>\n",
       "      <td>0.000000</td>\n",
       "      <td>0.00000</td>\n",
       "      <td>0.000348</td>\n",
       "      <td>0.000000</td>\n",
       "      <td>0.000000</td>\n",
       "      <td>0.000000</td>\n",
       "      <td>0.000000</td>\n",
       "      <td>0.000000</td>\n",
       "      <td>0.000000</td>\n",
       "      <td>...</td>\n",
       "      <td>0.000000</td>\n",
       "      <td>0.000000</td>\n",
       "      <td>0.000000</td>\n",
       "      <td>0.00000</td>\n",
       "      <td>0.000000</td>\n",
       "      <td>0.000000</td>\n",
       "      <td>0.000000</td>\n",
       "      <td>0.000000</td>\n",
       "      <td>0.000000</td>\n",
       "      <td>0.000000</td>\n",
       "    </tr>\n",
       "    <tr>\n",
       "      <th>1913</th>\n",
       "      <td>0.000000</td>\n",
       "      <td>0.000000</td>\n",
       "      <td>0.00000</td>\n",
       "      <td>0.000000</td>\n",
       "      <td>0.000000</td>\n",
       "      <td>0.000000</td>\n",
       "      <td>0.000000</td>\n",
       "      <td>0.000000</td>\n",
       "      <td>0.000000</td>\n",
       "      <td>0.000000</td>\n",
       "      <td>...</td>\n",
       "      <td>0.000000</td>\n",
       "      <td>0.000000</td>\n",
       "      <td>0.000000</td>\n",
       "      <td>0.00000</td>\n",
       "      <td>0.000000</td>\n",
       "      <td>0.000000</td>\n",
       "      <td>0.000000</td>\n",
       "      <td>0.000000</td>\n",
       "      <td>0.000000</td>\n",
       "      <td>0.000000</td>\n",
       "    </tr>\n",
       "    <tr>\n",
       "      <th>1914</th>\n",
       "      <td>0.000000</td>\n",
       "      <td>0.000000</td>\n",
       "      <td>0.00000</td>\n",
       "      <td>0.000000</td>\n",
       "      <td>0.000000</td>\n",
       "      <td>0.000000</td>\n",
       "      <td>0.000000</td>\n",
       "      <td>0.000000</td>\n",
       "      <td>0.000000</td>\n",
       "      <td>0.000000</td>\n",
       "      <td>...</td>\n",
       "      <td>0.000000</td>\n",
       "      <td>0.000000</td>\n",
       "      <td>0.000000</td>\n",
       "      <td>0.00000</td>\n",
       "      <td>0.000000</td>\n",
       "      <td>0.000000</td>\n",
       "      <td>0.000000</td>\n",
       "      <td>0.000000</td>\n",
       "      <td>0.000000</td>\n",
       "      <td>0.000000</td>\n",
       "    </tr>\n",
       "    <tr>\n",
       "      <th>1915</th>\n",
       "      <td>0.120092</td>\n",
       "      <td>0.000000</td>\n",
       "      <td>0.00000</td>\n",
       "      <td>0.019133</td>\n",
       "      <td>0.000000</td>\n",
       "      <td>0.000000</td>\n",
       "      <td>0.000000</td>\n",
       "      <td>0.000000</td>\n",
       "      <td>0.000000</td>\n",
       "      <td>0.000000</td>\n",
       "      <td>...</td>\n",
       "      <td>0.000000</td>\n",
       "      <td>0.000000</td>\n",
       "      <td>0.000000</td>\n",
       "      <td>0.00000</td>\n",
       "      <td>0.000000</td>\n",
       "      <td>0.000000</td>\n",
       "      <td>0.000000</td>\n",
       "      <td>0.000000</td>\n",
       "      <td>0.000000</td>\n",
       "      <td>0.000000</td>\n",
       "    </tr>\n",
       "    <tr>\n",
       "      <th>1916</th>\n",
       "      <td>0.000000</td>\n",
       "      <td>0.000000</td>\n",
       "      <td>0.00000</td>\n",
       "      <td>0.000000</td>\n",
       "      <td>0.000000</td>\n",
       "      <td>0.000000</td>\n",
       "      <td>0.000000</td>\n",
       "      <td>0.000000</td>\n",
       "      <td>0.000000</td>\n",
       "      <td>0.000000</td>\n",
       "      <td>...</td>\n",
       "      <td>0.000000</td>\n",
       "      <td>0.000000</td>\n",
       "      <td>0.000000</td>\n",
       "      <td>0.00000</td>\n",
       "      <td>0.000000</td>\n",
       "      <td>0.000000</td>\n",
       "      <td>0.000000</td>\n",
       "      <td>0.000000</td>\n",
       "      <td>0.000000</td>\n",
       "      <td>0.000000</td>\n",
       "    </tr>\n",
       "    <tr>\n",
       "      <th>1917</th>\n",
       "      <td>0.000000</td>\n",
       "      <td>0.000000</td>\n",
       "      <td>0.00000</td>\n",
       "      <td>0.000000</td>\n",
       "      <td>0.000000</td>\n",
       "      <td>0.000000</td>\n",
       "      <td>0.000000</td>\n",
       "      <td>0.000000</td>\n",
       "      <td>0.000000</td>\n",
       "      <td>0.000000</td>\n",
       "      <td>...</td>\n",
       "      <td>0.000000</td>\n",
       "      <td>0.000000</td>\n",
       "      <td>0.000000</td>\n",
       "      <td>0.00000</td>\n",
       "      <td>0.000000</td>\n",
       "      <td>0.000000</td>\n",
       "      <td>0.000000</td>\n",
       "      <td>0.000000</td>\n",
       "      <td>0.000000</td>\n",
       "      <td>0.000000</td>\n",
       "    </tr>\n",
       "    <tr>\n",
       "      <th>The Fellowship of the Ring</th>\n",
       "      <td>0.000000</td>\n",
       "      <td>0.000434</td>\n",
       "      <td>0.00000</td>\n",
       "      <td>0.001354</td>\n",
       "      <td>0.000000</td>\n",
       "      <td>0.000000</td>\n",
       "      <td>0.000000</td>\n",
       "      <td>0.000000</td>\n",
       "      <td>0.000434</td>\n",
       "      <td>0.000000</td>\n",
       "      <td>...</td>\n",
       "      <td>0.000623</td>\n",
       "      <td>0.000623</td>\n",
       "      <td>0.000623</td>\n",
       "      <td>0.00000</td>\n",
       "      <td>0.000000</td>\n",
       "      <td>0.000000</td>\n",
       "      <td>0.000623</td>\n",
       "      <td>0.000000</td>\n",
       "      <td>0.000000</td>\n",
       "      <td>0.000000</td>\n",
       "    </tr>\n",
       "    <tr>\n",
       "      <th>The Hobbit</th>\n",
       "      <td>0.000000</td>\n",
       "      <td>0.000852</td>\n",
       "      <td>0.00000</td>\n",
       "      <td>0.001064</td>\n",
       "      <td>0.000000</td>\n",
       "      <td>0.000000</td>\n",
       "      <td>0.000000</td>\n",
       "      <td>0.000000</td>\n",
       "      <td>0.000852</td>\n",
       "      <td>0.000000</td>\n",
       "      <td>...</td>\n",
       "      <td>0.000000</td>\n",
       "      <td>0.000000</td>\n",
       "      <td>0.000000</td>\n",
       "      <td>0.00000</td>\n",
       "      <td>0.000000</td>\n",
       "      <td>0.000000</td>\n",
       "      <td>0.000000</td>\n",
       "      <td>0.000000</td>\n",
       "      <td>0.000000</td>\n",
       "      <td>0.000000</td>\n",
       "    </tr>\n",
       "    <tr>\n",
       "      <th>The Return of the King</th>\n",
       "      <td>0.000000</td>\n",
       "      <td>0.000428</td>\n",
       "      <td>0.00123</td>\n",
       "      <td>0.007214</td>\n",
       "      <td>0.004304</td>\n",
       "      <td>0.006148</td>\n",
       "      <td>0.009838</td>\n",
       "      <td>0.007378</td>\n",
       "      <td>0.000428</td>\n",
       "      <td>0.002459</td>\n",
       "      <td>...</td>\n",
       "      <td>0.000000</td>\n",
       "      <td>0.000000</td>\n",
       "      <td>0.000000</td>\n",
       "      <td>0.00123</td>\n",
       "      <td>0.000615</td>\n",
       "      <td>0.000615</td>\n",
       "      <td>0.000000</td>\n",
       "      <td>0.000615</td>\n",
       "      <td>0.000615</td>\n",
       "      <td>0.000615</td>\n",
       "    </tr>\n",
       "    <tr>\n",
       "      <th>The Two Towers</th>\n",
       "      <td>0.000000</td>\n",
       "      <td>0.000527</td>\n",
       "      <td>0.00000</td>\n",
       "      <td>0.001646</td>\n",
       "      <td>0.000000</td>\n",
       "      <td>0.000000</td>\n",
       "      <td>0.000000</td>\n",
       "      <td>0.000000</td>\n",
       "      <td>0.000527</td>\n",
       "      <td>0.000000</td>\n",
       "      <td>...</td>\n",
       "      <td>0.000000</td>\n",
       "      <td>0.000000</td>\n",
       "      <td>0.000000</td>\n",
       "      <td>0.00000</td>\n",
       "      <td>0.000000</td>\n",
       "      <td>0.000000</td>\n",
       "      <td>0.000000</td>\n",
       "      <td>0.000000</td>\n",
       "      <td>0.000000</td>\n",
       "      <td>0.000000</td>\n",
       "    </tr>\n",
       "  </tbody>\n",
       "</table>\n",
       "<p>14 rows × 24265 columns</p>\n",
       "</div>"
      ],
      "text/plain": [
       "                                 000       007       05        10       100  \\\n",
       "title                                                                         \n",
       "emma                        0.001030  0.000000  0.00000  0.000511  0.000000   \n",
       "mansfield_park              0.000779  0.000000  0.00000  0.000869  0.000000   \n",
       "northanger_abbey            0.000868  0.000000  0.00000  0.000645  0.000000   \n",
       "pride-and-prejudice         0.000499  0.000000  0.00000  0.000371  0.000000   \n",
       "sense-and-sensibility       0.000468  0.000000  0.00000  0.000348  0.000000   \n",
       "1913                        0.000000  0.000000  0.00000  0.000000  0.000000   \n",
       "1914                        0.000000  0.000000  0.00000  0.000000  0.000000   \n",
       "1915                        0.120092  0.000000  0.00000  0.019133  0.000000   \n",
       "1916                        0.000000  0.000000  0.00000  0.000000  0.000000   \n",
       "1917                        0.000000  0.000000  0.00000  0.000000  0.000000   \n",
       "The Fellowship of the Ring  0.000000  0.000434  0.00000  0.001354  0.000000   \n",
       "The Hobbit                  0.000000  0.000852  0.00000  0.001064  0.000000   \n",
       "The Return of the King      0.000000  0.000428  0.00123  0.007214  0.004304   \n",
       "The Two Towers              0.000000  0.000527  0.00000  0.001646  0.000000   \n",
       "\n",
       "                                1000      1001      1002     10022      1003  \\\n",
       "title                                                                          \n",
       "emma                        0.000000  0.000000  0.000000  0.000000  0.000000   \n",
       "mansfield_park              0.000000  0.000000  0.000000  0.000000  0.000000   \n",
       "northanger_abbey            0.000000  0.000000  0.000000  0.000000  0.000000   \n",
       "pride-and-prejudice         0.000000  0.000000  0.000000  0.000000  0.000000   \n",
       "sense-and-sensibility       0.000000  0.000000  0.000000  0.000000  0.000000   \n",
       "1913                        0.000000  0.000000  0.000000  0.000000  0.000000   \n",
       "1914                        0.000000  0.000000  0.000000  0.000000  0.000000   \n",
       "1915                        0.000000  0.000000  0.000000  0.000000  0.000000   \n",
       "1916                        0.000000  0.000000  0.000000  0.000000  0.000000   \n",
       "1917                        0.000000  0.000000  0.000000  0.000000  0.000000   \n",
       "The Fellowship of the Ring  0.000000  0.000000  0.000000  0.000434  0.000000   \n",
       "The Hobbit                  0.000000  0.000000  0.000000  0.000852  0.000000   \n",
       "The Return of the King      0.006148  0.009838  0.007378  0.000428  0.002459   \n",
       "The Two Towers              0.000000  0.000000  0.000000  0.000527  0.000000   \n",
       "\n",
       "                              ...       óinand     óinto    ómaryo     ónen  \\\n",
       "title                         ...                                             \n",
       "emma                          ...     0.000000  0.000000  0.000000  0.00000   \n",
       "mansfield_park                ...     0.000000  0.000000  0.000000  0.00000   \n",
       "northanger_abbey              ...     0.000000  0.000000  0.000000  0.00000   \n",
       "pride-and-prejudice           ...     0.000000  0.000000  0.000000  0.00000   \n",
       "sense-and-sensibility         ...     0.000000  0.000000  0.000000  0.00000   \n",
       "1913                          ...     0.000000  0.000000  0.000000  0.00000   \n",
       "1914                          ...     0.000000  0.000000  0.000000  0.00000   \n",
       "1915                          ...     0.000000  0.000000  0.000000  0.00000   \n",
       "1916                          ...     0.000000  0.000000  0.000000  0.00000   \n",
       "1917                          ...     0.000000  0.000000  0.000000  0.00000   \n",
       "The Fellowship of the Ring    ...     0.000623  0.000623  0.000623  0.00000   \n",
       "The Hobbit                    ...     0.000000  0.000000  0.000000  0.00000   \n",
       "The Return of the King        ...     0.000000  0.000000  0.000000  0.00123   \n",
       "The Two Towers                ...     0.000000  0.000000  0.000000  0.00000   \n",
       "\n",
       "                                 óre   únótime   únótimë       úre     úrimë  \\\n",
       "title                                                                          \n",
       "emma                        0.000000  0.000000  0.000000  0.000000  0.000000   \n",
       "mansfield_park              0.000000  0.000000  0.000000  0.000000  0.000000   \n",
       "northanger_abbey            0.000000  0.000000  0.000000  0.000000  0.000000   \n",
       "pride-and-prejudice         0.000000  0.000000  0.000000  0.000000  0.000000   \n",
       "sense-and-sensibility       0.000000  0.000000  0.000000  0.000000  0.000000   \n",
       "1913                        0.000000  0.000000  0.000000  0.000000  0.000000   \n",
       "1914                        0.000000  0.000000  0.000000  0.000000  0.000000   \n",
       "1915                        0.000000  0.000000  0.000000  0.000000  0.000000   \n",
       "1916                        0.000000  0.000000  0.000000  0.000000  0.000000   \n",
       "1917                        0.000000  0.000000  0.000000  0.000000  0.000000   \n",
       "The Fellowship of the Ring  0.000000  0.000000  0.000623  0.000000  0.000000   \n",
       "The Hobbit                  0.000000  0.000000  0.000000  0.000000  0.000000   \n",
       "The Return of the King      0.000615  0.000615  0.000000  0.000615  0.000615   \n",
       "The Two Towers              0.000000  0.000000  0.000000  0.000000  0.000000   \n",
       "\n",
       "                                úrui  \n",
       "title                                 \n",
       "emma                        0.000000  \n",
       "mansfield_park              0.000000  \n",
       "northanger_abbey            0.000000  \n",
       "pride-and-prejudice         0.000000  \n",
       "sense-and-sensibility       0.000000  \n",
       "1913                        0.000000  \n",
       "1914                        0.000000  \n",
       "1915                        0.000000  \n",
       "1916                        0.000000  \n",
       "1917                        0.000000  \n",
       "The Fellowship of the Ring  0.000000  \n",
       "The Hobbit                  0.000000  \n",
       "The Return of the King      0.000615  \n",
       "The Two Towers              0.000000  \n",
       "\n",
       "[14 rows x 24265 columns]"
      ]
     },
     "execution_count": 29,
     "metadata": {},
     "output_type": "execute_result"
    }
   ],
   "source": [
    "from sklearn.feature_extraction.text import TfidfVectorizer\n",
    "\n",
    "vec = TfidfVectorizer(stop_words='english')\n",
    "matrix = vec.fit_transform(df.content)\n",
    "features_df = pd.DataFrame(matrix.toarray(), columns=vec.get_feature_names(), index=df.title)\n",
    "features_df"
   ]
  },
  {
   "cell_type": "markdown",
   "metadata": {},
   "source": [
    "### How similar are they? We could cluster, but instead..."
   ]
  },
  {
   "cell_type": "code",
   "execution_count": 46,
   "metadata": {
    "collapsed": true
   },
   "outputs": [],
   "source": [
    "similarity = cosine_similarity(features_df)\n",
    "similarity_df = pd.DataFrame(similarity, index=df.title, columns=df.title)"
   ]
  },
  {
   "cell_type": "code",
   "execution_count": 47,
   "metadata": {},
   "outputs": [
    {
     "data": {
      "text/plain": [
       "<matplotlib.axes._subplots.AxesSubplot at 0x1135fee80>"
      ]
     },
     "execution_count": 47,
     "metadata": {},
     "output_type": "execute_result"
    },
    {
     "data": {
      "image/png": "[encoded data removed]",
      "text/plain": [
       "<matplotlib.figure.Figure at 0x1135dc898>"
      ]
     },
     "metadata": {},
     "output_type": "display_data"
    }
   ],
   "source": [
    "sns.heatmap(similarity_df, cmap=\"YlGnBu\")"
   ]
  },
  {
   "cell_type": "markdown",
   "metadata": {
    "collapsed": true
   },
   "source": [
    "## Let's try it without stopwords to compare"
   ]
  },
  {
   "cell_type": "code",
   "execution_count": 43,
   "metadata": {},
   "outputs": [
    {
     "data": {
      "text/plain": [
       "<matplotlib.axes._subplots.AxesSubplot at 0x11359df60>"
      ]
     },
     "execution_count": 43,
     "metadata": {},
     "output_type": "execute_result"
    },
    {
     "data": {
      "image/png": "[encoded data removed]",
      "text/plain": [
       "<matplotlib.figure.Figure at 0x111ddb8d0>"
      ]
     },
     "metadata": {},
     "output_type": "display_data"
    }
   ],
   "source": [
    "from sklearn.feature_extraction.text import TfidfVectorizer\n",
    "\n",
    "vec = TfidfVectorizer()\n",
    "matrix = vec.fit_transform(df.content)\n",
    "similarity = cosine_similarity(matrix)\n",
    "similarity_df = pd.DataFrame(similarity, index=df.title, columns=df.title)\n",
    "sns.heatmap(similarity_df, cmap=\"YlGnBu\")"
   ]
  },
  {
   "cell_type": "markdown",
   "metadata": {},
   "source": [
    "Hmm, interesting: **why does it change so much?**"
   ]
  },
  {
   "cell_type": "markdown",
   "metadata": {},
   "source": [
    "## Is Pride and Prejudice more like State of the Union addresses or JRR Tolkein?"
   ]
  },
  {
   "cell_type": "code",
   "execution_count": 45,
   "metadata": {},
   "outputs": [
    {
     "data": {
      "text/plain": [
       "title\n",
       "pride-and-prejudice           1.000000\n",
       "northanger_abbey              0.936519\n",
       "mansfield_park                0.932818\n",
       "emma                          0.924443\n",
       "sense-and-sensibility         0.922823\n",
       "The Fellowship of the Ring    0.837777\n",
       "The Two Towers                0.837151\n",
       "The Return of the King        0.827381\n",
       "The Hobbit                    0.825131\n",
       "1915                          0.792910\n",
       "1917                          0.788097\n",
       "1914                          0.776032\n",
       "1913                          0.775510\n",
       "1916                          0.746305\n",
       "Name: pride-and-prejudice, dtype: float64"
      ]
     },
     "execution_count": 45,
     "metadata": {},
     "output_type": "execute_result"
    }
   ],
   "source": [
    "similarity_df['pride-and-prejudice'].sort_values(ascending=False)"
   ]
  },
  {
   "cell_type": "code",
   "execution_count": null,
   "metadata": {
    "collapsed": true
   },
   "outputs": [],
   "source": []
  }
 ],
 "metadata": {
  "kernelspec": {
   "display_name": "Python 3",
   "language": "python",
   "name": "python3"
  },
  "language_info": {
   "codemirror_mode": {
    "name": "ipython",
    "version": 3
   },
   "file_extension": ".py",
   "mimetype": "text/x-python",
   "name": "python",
   "nbconvert_exporter": "python",
   "pygments_lexer": "ipython3",
   "version": "3.6.3"
  }
 },
 "nbformat": 4,
 "nbformat_minor": 2
}
